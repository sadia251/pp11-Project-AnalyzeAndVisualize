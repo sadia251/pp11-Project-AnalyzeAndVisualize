{
  "nbformat": 4,
  "nbformat_minor": 0,
  "metadata": {
    "colab": {
      "provenance": []
    },
    "kernelspec": {
      "name": "python3",
      "display_name": "Python 3"
    },
    "language_info": {
      "name": "python"
    }
  },
  "cells": [
    {
      "cell_type": "code",
      "execution_count": 1,
      "metadata": {
        "colab": {
          "base_uri": "https://localhost:8080/"
        },
        "id": "TNKH0bseRv1H",
        "outputId": "9cfd23c1-98aa-4a31-c34d-22552c607147"
      },
      "outputs": [
        {
          "output_type": "stream",
          "name": "stdout",
          "text": [
            "['purple', 'Red', 'purple', 'Green']\n"
          ]
        }
      ],
      "source": [
        "#1list1=[\"white\",\"Red\",\"white\",\"Green\"]\n",
        "#  Replace \"white\" with \"purple\"\n",
        "list1 = [\"white\", \"Red\", \"white\", \"Green\"]\n",
        "list1 = [\"purple\" if item == \"white\" else item for item in list1]\n",
        "print(list1)\n"
      ]
    },
    {
      "cell_type": "code",
      "source": [
        "# Insert \"Blue\" on the 3rd index.\n",
        "list1 = [\"purple\", \"Red\", \"purple\", \"Green\"]\n",
        "list1.insert(2, \"Blue\")\n",
        "print(list1)"
      ],
      "metadata": {
        "colab": {
          "base_uri": "https://localhost:8080/"
        },
        "id": "QRxFqKK4S1CL",
        "outputId": "31c6dde4-b5d6-4828-e69b-275f7558ddf3"
      },
      "execution_count": 2,
      "outputs": [
        {
          "output_type": "stream",
          "name": "stdout",
          "text": [
            "['purple', 'Red', 'Blue', 'purple', 'Green']\n"
          ]
        }
      ]
    },
    {
      "cell_type": "markdown",
      "source": [],
      "metadata": {
        "id": "7-AR7JhVTn5p"
      }
    },
    {
      "cell_type": "code",
      "source": [
        "# Extend list1 with the following list[\"Yellow\",\"Violet\"]\n",
        "list1 = [\"purple\", \"Red\", \"Blue\", \"purple\", \"Green\"]\n",
        "list1.extend([\"Yellow\", \"Violet\"])\n",
        "print(list1)\n"
      ],
      "metadata": {
        "colab": {
          "base_uri": "https://localhost:8080/"
        },
        "id": "-KMAgrw3TSNL",
        "outputId": "13f327a1-ca9e-4734-e21d-9930844ffd48"
      },
      "execution_count": 3,
      "outputs": [
        {
          "output_type": "stream",
          "name": "stdout",
          "text": [
            "['purple', 'Red', 'Blue', 'purple', 'Green', 'Yellow', 'Violet']\n"
          ]
        }
      ]
    },
    {
      "cell_type": "code",
      "source": [
        "# Print the index number of \"Green\"\n",
        "list1=[\"Purple\",\"Red\",\"Blue\",\"Purple\",\"Green\",\"Yellow\",\"Violet\"]\n",
        "print(list1.index(\"Green\"))"
      ],
      "metadata": {
        "colab": {
          "base_uri": "https://localhost:8080/"
        },
        "id": "dIaIXmjcT0i0",
        "outputId": "e0831cce-e921-4d01-ab1d-0466ff4095b5"
      },
      "execution_count": 5,
      "outputs": [
        {
          "output_type": "stream",
          "name": "stdout",
          "text": [
            "4\n"
          ]
        }
      ]
    },
    {
      "cell_type": "code",
      "source": [
        "# Remove Green from the list.\n",
        "list1=[\"Purple\",\"Red\",\"Blue\",\"Purple\",\"Green\",\"Yellow\",\"Violet\"]\n",
        "list1.remove(\"Green\")\n",
        "print(list1)"
      ],
      "metadata": {
        "colab": {
          "base_uri": "https://localhost:8080/"
        },
        "id": "S-CbufSaUuv1",
        "outputId": "8f8646a9-8d0f-4e57-d3e6-c8ac984d99f3"
      },
      "execution_count": 6,
      "outputs": [
        {
          "output_type": "stream",
          "name": "stdout",
          "text": [
            "['Purple', 'Red', 'Blue', 'Purple', 'Yellow', 'Violet']\n"
          ]
        }
      ]
    },
    {
      "cell_type": "code",
      "source": [
        "S1={\"Rahim\",\"Karim\",\"Isalm\"}\n",
        "S2={\"Mobin\",\"Islam\",\"Mahfuj\"}\n",
        "# add \"Foysal\" on S1\n",
        "S1.add(\"Foysal\")\n",
        "print(S1)\n"
      ],
      "metadata": {
        "colab": {
          "base_uri": "https://localhost:8080/"
        },
        "id": "ZQ7yccdsVQZE",
        "outputId": "342e3cfc-39d1-4f9e-b8fa-8f2b01c1930a"
      },
      "execution_count": 7,
      "outputs": [
        {
          "output_type": "stream",
          "name": "stdout",
          "text": [
            "{'Karim', 'Isalm', 'Foysal', 'Rahim'}\n"
          ]
        }
      ]
    },
    {
      "cell_type": "code",
      "source": [
        "# Remove \"Mobin\" from S2\n",
        "S2.remove(\"Mobin\")\n",
        "print(S2)"
      ],
      "metadata": {
        "colab": {
          "base_uri": "https://localhost:8080/"
        },
        "id": "aZ0JqgS5VxDy",
        "outputId": "79b7919e-5f44-4225-a009-6683b283f3d0"
      },
      "execution_count": 8,
      "outputs": [
        {
          "output_type": "stream",
          "name": "stdout",
          "text": [
            "{'Islam', 'Mahfuj'}\n"
          ]
        }
      ]
    },
    {
      "cell_type": "code",
      "source": [
        "# Find out the Union of S1 and S2\n",
        "S1 = {\"Rahim\", \"Karim\", \"Isalm\", \"Foysal\"}\n",
        "S2 = {\"Islam\", \"Mahfuj\"}\n",
        "S3 = S1|(S2)\n",
        "print(S3)\n"
      ],
      "metadata": {
        "colab": {
          "base_uri": "https://localhost:8080/"
        },
        "id": "jyz22Tl1WGSU",
        "outputId": "0fa9c541-d882-4e6e-dd9f-2fab3fda5d93"
      },
      "execution_count": 11,
      "outputs": [
        {
          "output_type": "stream",
          "name": "stdout",
          "text": [
            "{'Karim', 'Islam', 'Mahfuj', 'Rahim', 'Isalm', 'Foysal'}\n"
          ]
        }
      ]
    },
    {
      "cell_type": "code",
      "source": [
        "# Find out the intersection of S1 and S2\n",
        "S1 = {\"Rahim\", \"Karim\", \"Isalm\", \"Foysal\"}\n",
        "S2 = {\"Islam\", \"Mahfuj\"}\n",
        "S3 = S1.intersection(S2)\n",
        "print(S3)\n"
      ],
      "metadata": {
        "colab": {
          "base_uri": "https://localhost:8080/"
        },
        "id": "vG0QdPJuWpqa",
        "outputId": "9a13a941-b176-4e7b-c3b5-1a39dfe5dd99"
      },
      "execution_count": 25,
      "outputs": [
        {
          "output_type": "stream",
          "name": "stdout",
          "text": [
            "set()\n",
            "set()\n"
          ]
        }
      ]
    },
    {
      "cell_type": "code",
      "source": [
        "# Clear both S1 and S2 set.\n",
        "S1 = {\"Rahim\", \"Karim\", \"Isalm\", \"Foysal\"}\n",
        "S2 = {\"Islam\", \"Mahfuj\"}\n",
        "S1.clear()\n",
        "S2.clear()"
      ],
      "metadata": {
        "id": "heE0FRZ9XMXh"
      },
      "execution_count": 18,
      "outputs": []
    },
    {
      "cell_type": "code",
      "source": [],
      "metadata": {
        "id": "VxJvIPlxX9cW"
      },
      "execution_count": null,
      "outputs": []
    },
    {
      "cell_type": "code",
      "source": [
        "# Take an integer input from the user. And print whether the integer is even or odd.\n",
        "num = int(input(\"Enter an integer: \"))\n",
        "if num % 2 == 0:\n",
        "    print(num, \"is even\")\n",
        "num = int(input(\"Enter an integer: \"))\n",
        "if num % 2 == 0:\n",
        "    print(num, \"is even\")\n",
        "else:\n",
        "    print(num, \"is odd\")"
      ],
      "metadata": {
        "colab": {
          "base_uri": "https://localhost:8080/"
        },
        "id": "p71OFksmXoTx",
        "outputId": "cd87208f-3732-4f46-9cd4-221ae2dc980a"
      },
      "execution_count": 21,
      "outputs": [
        {
          "output_type": "stream",
          "name": "stdout",
          "text": [
            "Enter an integer: 6\n",
            "6 is even\n",
            "Enter an integer: 22\n",
            "22 is even\n"
          ]
        }
      ]
    },
    {
      "cell_type": "code",
      "source": [
        "# Write a python Program that asks the user for their name and age and then print a message in the format.\n",
        "name = input(\"Enter your name: \")\n",
        "age = int(input(\"Enter your age: \"))\n",
        "\n",
        "print(f\"Hello, my name is {name}, and I am {age} years old.\")"
      ],
      "metadata": {
        "colab": {
          "base_uri": "https://localhost:8080/"
        },
        "id": "u2p1ZTXYYbSP",
        "outputId": "188f2950-c4ea-443f-8653-a67659a967d9"
      },
      "execution_count": 22,
      "outputs": [
        {
          "output_type": "stream",
          "name": "stdout",
          "text": [
            "Enter your name: Sadia\n",
            "Enter your age: 23\n",
            "Hello, my name is Sadia, and I am 23 years old.\n"
          ]
        }
      ]
    },
    {
      "cell_type": "code",
      "source": [],
      "metadata": {
        "id": "1xgRfqSgZL5L"
      },
      "execution_count": null,
      "outputs": []
    }
  ]
}